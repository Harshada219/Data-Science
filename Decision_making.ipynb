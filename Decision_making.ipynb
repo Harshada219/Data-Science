{
 "cells": [
  {
   "cell_type": "code",
   "execution_count": 3,
   "id": "c70128f5",
   "metadata": {},
   "outputs": [
    {
     "name": "stdout",
     "output_type": "stream",
     "text": [
      "Enter the num:234\n",
      "MENU\n",
      "1.Square\n",
      "2.Cube\n",
      "3.Positive or negative\n",
      "4.Odd or even\n",
      "Enter your choice4\n",
      "Even\n"
     ]
    }
   ],
   "source": [
    "#Menu driven\n",
    "'''\n",
    "1.square\n",
    "2.cube\n",
    "3.positive or negative'''\n",
    "\n",
    "num = int(input('Enter the num:'))\n",
    "\n",
    "print('MENU\\n1.Square\\n2.Cube\\n3.Positive or negative\\n4.Odd or even')\n",
    "\n",
    "ch = int (input('Enter your choice:'))\n",
    "\n",
    "if ch==1:\n",
    "    print('Square is', num * num)\n",
    "elif ch == 2:\n",
    "    print('Cube is', num ** 3)\n",
    "elif ch ==3:\n",
    "    if num > 0:\n",
    "        print('Positive')\n",
    "    else:\n",
    "        print('Negative')\n",
    "elif ch==4:\n",
    "    if num %2 == 0:\n",
    "        print('Even')\n",
    "    else:\n",
    "        print('Odd')\n",
    "else:\n",
    "    print('Invalid choice')"
   ]
  },
  {
   "cell_type": "code",
   "execution_count": 11,
   "id": "c9c5953c",
   "metadata": {},
   "outputs": [
    {
     "name": "stdout",
     "output_type": "stream",
     "text": [
      "Harshada\n",
      "Harshada\n",
      "Harshada\n",
      "Harshada\n",
      "Harshada\n"
     ]
    }
   ],
   "source": [
    "#WHILE LOOP\n",
    "count = 1\n",
    "\n",
    "while count < 6:\n",
    "    print('Harshada')\n",
    "    count += 1"
   ]
  },
  {
   "cell_type": "code",
   "execution_count": 17,
   "id": "5d1895e3",
   "metadata": {},
   "outputs": [
    {
     "name": "stdout",
     "output_type": "stream",
     "text": [
      "1\n",
      "2\n",
      "3\n",
      "4\n",
      "5\n"
     ]
    }
   ],
   "source": [
    "count = 1\n",
    "\n",
    "while count < 6:\n",
    "    print(count)\n",
    "    count += 1"
   ]
  },
  {
   "cell_type": "code",
   "execution_count": null,
   "id": "ec057a61",
   "metadata": {},
   "outputs": [],
   "source": [
    "#addition of numbers from 1 to 10\n",
    "count = 1\n",
    "add=0\n",
    "while count < 11:\n",
    "    add = add + count\n",
    "    count += 1\n",
    "    \n",
    "    print('Addition', add)"
   ]
  },
  {
   "cell_type": "code",
   "execution_count": null,
   "id": "d18e9b2d",
   "metadata": {},
   "outputs": [],
   "source": [
    "#addition of odd numbers from 1 to 20\n",
    "count = 1\n",
    "add=0\n",
    "while count < 20:\n",
    "    add = add + count\n",
    "    count += 2\n",
    "    \n",
    "    print('Addition', add)"
   ]
  },
  {
   "cell_type": "code",
   "execution_count": null,
   "id": "40c92c78",
   "metadata": {},
   "outputs": [],
   "source": [
    "#take user input find the sum of digits of a number\n",
    "#ex=>12345 => 15"
   ]
  },
  {
   "cell_type": "code",
   "execution_count": null,
   "id": "0095ddb5",
   "metadata": {},
   "outputs": [],
   "source": [
    "num = int(input('Enter the num:'))\n",
    "add = 0\n",
    "while num > 0\n",
    "    add += num\n",
    "    num = int(num /= 10)\n",
    "print('sum', add)"
   ]
  },
  {
   "cell_type": "code",
   "execution_count": 21,
   "id": "62163d33",
   "metadata": {},
   "outputs": [
    {
     "name": "stdout",
     "output_type": "stream",
     "text": [
      "Enter the num:12345\n",
      "Addition of numbers:  15\n"
     ]
    }
   ],
   "source": [
    "num = int(input('Enter the num:'))\n",
    "add = 0\n",
    "while num > 0:\n",
    "    rem = num% 10\n",
    "    add = add + rem\n",
    "    num =num //10\n",
    "print('Addition of numbers:', add)"
   ]
  },
  {
   "cell_type": "markdown",
   "id": "7caf25f7",
   "metadata": {},
   "source": [
    "## For Loop"
   ]
  },
  {
   "cell_type": "code",
   "execution_count": 22,
   "id": "2427c9f2",
   "metadata": {},
   "outputs": [
    {
     "name": "stdout",
     "output_type": "stream",
     "text": [
      "34\n",
      "56\n",
      "78\n",
      "43\n",
      "22\n"
     ]
    }
   ],
   "source": [
    "for n in 34, 56, 78, 43, 22:\n",
    "    print(n)"
   ]
  },
  {
   "cell_type": "code",
   "execution_count": 23,
   "id": "3fe77ebf",
   "metadata": {},
   "outputs": [
    {
     "name": "stdout",
     "output_type": "stream",
     "text": [
      "1156\n",
      "3136\n",
      "6084\n",
      "1849\n",
      "484\n"
     ]
    }
   ],
   "source": [
    "for n in 34, 56, 78, 43, 22:\n",
    "    print(n * n)"
   ]
  },
  {
   "cell_type": "code",
   "execution_count": 25,
   "id": "5906c765",
   "metadata": {},
   "outputs": [
    {
     "data": {
      "text/plain": [
       "[1, 2, 3, 4, 5, 6, 7, 8, 9, 10]"
      ]
     },
     "execution_count": 25,
     "metadata": {},
     "output_type": "execute_result"
    }
   ],
   "source": [
    "#Range function\n",
    "list(range (1, 10))\n"
   ]
  },
  {
   "cell_type": "code",
   "execution_count": 26,
   "id": "bc46547d",
   "metadata": {},
   "outputs": [
    {
     "data": {
      "text/plain": [
       "[1, 3, 5, 7, 9]"
      ]
     },
     "execution_count": 26,
     "metadata": {},
     "output_type": "execute_result"
    }
   ],
   "source": [
    "list(range (1, 10, 2))"
   ]
  },
  {
   "cell_type": "code",
   "execution_count": 27,
   "id": "6520b27a",
   "metadata": {},
   "outputs": [
    {
     "name": "stdout",
     "output_type": "stream",
     "text": [
      "0\n",
      "1\n",
      "2\n",
      "3\n",
      "4\n",
      "5\n",
      "6\n",
      "7\n",
      "8\n",
      "9\n"
     ]
    }
   ],
   "source": [
    "for n in range(10):\n",
    "    print(n)"
   ]
  },
  {
   "cell_type": "code",
   "execution_count": 30,
   "id": "d42a3ead",
   "metadata": {},
   "outputs": [
    {
     "name": "stdout",
     "output_type": "stream",
     "text": [
      "Harshada\n",
      "Harshada\n",
      "Harshada\n",
      "Harshada\n",
      "Harshada\n",
      "Harshada\n",
      "Harshada\n",
      "Harshada\n",
      "Harshada\n",
      "Harshada\n"
     ]
    }
   ],
   "source": [
    "for n in range(10):\n",
    "    print('Harshada')"
   ]
  },
  {
   "cell_type": "code",
   "execution_count": 35,
   "id": "4f1a8aaa",
   "metadata": {},
   "outputs": [
    {
     "name": "stdout",
     "output_type": "stream",
     "text": [
      "Addition is: 55\n"
     ]
    }
   ],
   "source": [
    "#addition of first 10 natural numbers\n",
    "add=0\n",
    "for n in range (1, 11):\n",
    "     add +=n\n",
    "print('Addition is:', add)"
   ]
  },
  {
   "cell_type": "code",
   "execution_count": 36,
   "id": "866eff59",
   "metadata": {
    "scrolled": true
   },
   "outputs": [
    {
     "name": "stdout",
     "output_type": "stream",
     "text": [
      "0\n",
      "1\n",
      "2\n",
      "3\n",
      "4\n"
     ]
    }
   ],
   "source": [
    "#break\n",
    "for x in range(10):\n",
    "    if x==5:\n",
    "        break\n",
    "    print(x)"
   ]
  },
  {
   "cell_type": "code",
   "execution_count": 37,
   "id": "c8a72474",
   "metadata": {},
   "outputs": [
    {
     "name": "stdout",
     "output_type": "stream",
     "text": [
      "0\n",
      "1\n",
      "2\n",
      "3\n",
      "4\n",
      "6\n",
      "7\n",
      "8\n",
      "9\n"
     ]
    }
   ],
   "source": [
    "#continue\n",
    "for x in range(10):\n",
    "    if x==5:\n",
    "        continue\n",
    "    print(x)"
   ]
  },
  {
   "cell_type": "code",
   "execution_count": null,
   "id": "b35584da",
   "metadata": {},
   "outputs": [],
   "source": []
  }
 ],
 "metadata": {
  "kernelspec": {
   "display_name": "Python 3 (ipykernel)",
   "language": "python",
   "name": "python3"
  },
  "language_info": {
   "codemirror_mode": {
    "name": "ipython",
    "version": 3
   },
   "file_extension": ".py",
   "mimetype": "text/x-python",
   "name": "python",
   "nbconvert_exporter": "python",
   "pygments_lexer": "ipython3",
   "version": "3.11.5"
  }
 },
 "nbformat": 4,
 "nbformat_minor": 5
}

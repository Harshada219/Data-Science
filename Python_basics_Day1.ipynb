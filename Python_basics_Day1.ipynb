{
 "cells": [
  {
   "cell_type": "code",
   "execution_count": 1,
   "id": "d929fcb7",
   "metadata": {},
   "outputs": [
    {
     "name": "stdout",
     "output_type": "stream",
     "text": [
      "hello World!\n"
     ]
    }
   ],
   "source": [
    "print(\"hello World!\")"
   ]
  },
  {
   "cell_type": "code",
   "execution_count": 24,
   "id": "315bb6b2",
   "metadata": {},
   "outputs": [],
   "source": [
    "num = 78"
   ]
  },
  {
   "cell_type": "code",
   "execution_count": 25,
   "id": "6007c74d",
   "metadata": {},
   "outputs": [
    {
     "data": {
      "text/plain": [
       "int"
      ]
     },
     "execution_count": 25,
     "metadata": {},
     "output_type": "execute_result"
    }
   ],
   "source": [
    "type(num)"
   ]
  },
  {
   "cell_type": "code",
   "execution_count": 5,
   "id": "d86b2bf9",
   "metadata": {},
   "outputs": [],
   "source": [
    "num2=12.21"
   ]
  },
  {
   "cell_type": "code",
   "execution_count": 9,
   "id": "725f5c9f",
   "metadata": {},
   "outputs": [
    {
     "data": {
      "text/plain": [
       "float"
      ]
     },
     "execution_count": 9,
     "metadata": {},
     "output_type": "execute_result"
    }
   ],
   "source": [
    "type(num2)"
   ]
  },
  {
   "cell_type": "code",
   "execution_count": 10,
   "id": "f9cfd163",
   "metadata": {},
   "outputs": [],
   "source": [
    "name=\"Harshada\""
   ]
  },
  {
   "cell_type": "code",
   "execution_count": 11,
   "id": "0e1fd1b3",
   "metadata": {},
   "outputs": [
    {
     "data": {
      "text/plain": [
       "str"
      ]
     },
     "execution_count": 11,
     "metadata": {},
     "output_type": "execute_result"
    }
   ],
   "source": [
    "type(name)"
   ]
  },
  {
   "cell_type": "code",
   "execution_count": 15,
   "id": "0f07e1ce",
   "metadata": {},
   "outputs": [
    {
     "data": {
      "text/plain": [
       "False"
      ]
     },
     "execution_count": 15,
     "metadata": {},
     "output_type": "execute_result"
    }
   ],
   "source": [
    "False"
   ]
  },
  {
   "cell_type": "code",
   "execution_count": 1,
   "id": "64b2606d",
   "metadata": {},
   "outputs": [],
   "source": [
    "num=45+15"
   ]
  },
  {
   "cell_type": "code",
   "execution_count": 2,
   "id": "aa7a7644",
   "metadata": {},
   "outputs": [
    {
     "data": {
      "text/plain": [
       "60"
      ]
     },
     "execution_count": 2,
     "metadata": {},
     "output_type": "execute_result"
    }
   ],
   "source": [
    "num"
   ]
  },
  {
   "cell_type": "code",
   "execution_count": 18,
   "id": "0c1b11a1",
   "metadata": {},
   "outputs": [],
   "source": [
    "num=6788654 ** 78"
   ]
  },
  {
   "cell_type": "code",
   "execution_count": 19,
   "id": "087fc78a",
   "metadata": {},
   "outputs": [
    {
     "data": {
      "text/plain": [
       "75705355242505180803726621380687125641135842047632845640405777295780156246985983680067867429010297331809277310622629405277202047386604310576273189781345593829387615571060423842346487478492265237492693720064913062650389797311347786001766483008264811260802308168330218847533273061339410961107836220617696412005690875276777523598403219869452674548780190101364417281817205449736273232548639901097817468239759702432495245216097302358779712677238603857777633839425091869700594523504298491824623251695019025079814000815000770157810848628736"
      ]
     },
     "execution_count": 19,
     "metadata": {},
     "output_type": "execute_result"
    }
   ],
   "source": [
    "num"
   ]
  },
  {
   "cell_type": "code",
   "execution_count": 21,
   "id": "95c16436",
   "metadata": {},
   "outputs": [
    {
     "data": {
      "text/plain": [
       "10000.0"
      ]
     },
     "execution_count": 21,
     "metadata": {},
     "output_type": "execute_result"
    }
   ],
   "source": [
    "y=10e3 #10 * 10 to the pow 3\n",
    "y"
   ]
  },
  {
   "cell_type": "code",
   "execution_count": 27,
   "id": "de421246",
   "metadata": {},
   "outputs": [
    {
     "name": "stdout",
     "output_type": "stream",
     "text": [
      "Welcome to python programming\n"
     ]
    }
   ],
   "source": [
    "print(\"Welcome to python programming\")"
   ]
  },
  {
   "cell_type": "code",
   "execution_count": 28,
   "id": "2b8d5f20",
   "metadata": {},
   "outputs": [
    {
     "name": "stdout",
     "output_type": "stream",
     "text": [
      "Welcome to 'python' programming\n"
     ]
    }
   ],
   "source": [
    "print(\"Welcome to 'python' programming\")"
   ]
  },
  {
   "cell_type": "code",
   "execution_count": 37,
   "id": "85b48a3e",
   "metadata": {},
   "outputs": [],
   "source": [
    "#multiple asignment\n",
    "num1, num2, num3, num4 = 12, 34, 56, 'Harshada'"
   ]
  },
  {
   "cell_type": "code",
   "execution_count": 30,
   "id": "603d6efd",
   "metadata": {},
   "outputs": [
    {
     "data": {
      "text/plain": [
       "12"
      ]
     },
     "execution_count": 30,
     "metadata": {},
     "output_type": "execute_result"
    }
   ],
   "source": [
    "num1"
   ]
  },
  {
   "cell_type": "code",
   "execution_count": 31,
   "id": "9ecb443f",
   "metadata": {},
   "outputs": [
    {
     "data": {
      "text/plain": [
       "34"
      ]
     },
     "execution_count": 31,
     "metadata": {},
     "output_type": "execute_result"
    }
   ],
   "source": [
    "num2"
   ]
  },
  {
   "cell_type": "code",
   "execution_count": 32,
   "id": "a5e0089b",
   "metadata": {},
   "outputs": [
    {
     "data": {
      "text/plain": [
       "56"
      ]
     },
     "execution_count": 32,
     "metadata": {},
     "output_type": "execute_result"
    }
   ],
   "source": [
    "num3"
   ]
  },
  {
   "cell_type": "code",
   "execution_count": 38,
   "id": "fa5d7619",
   "metadata": {},
   "outputs": [
    {
     "data": {
      "text/plain": [
       "'Harshada'"
      ]
     },
     "execution_count": 38,
     "metadata": {},
     "output_type": "execute_result"
    }
   ],
   "source": [
    "num4"
   ]
  },
  {
   "cell_type": "code",
   "execution_count": 39,
   "id": "d8aced60",
   "metadata": {},
   "outputs": [],
   "source": [
    "num1=23\n",
    "num2=10"
   ]
  },
  {
   "cell_type": "code",
   "execution_count": 40,
   "id": "7b2dec9c",
   "metadata": {},
   "outputs": [
    {
     "name": "stdout",
     "output_type": "stream",
     "text": [
      "33\n"
     ]
    }
   ],
   "source": [
    "add=num1 + num2\n",
    "print(add)"
   ]
  },
  {
   "cell_type": "code",
   "execution_count": 3,
   "id": "699c9e1b",
   "metadata": {},
   "outputs": [
    {
     "data": {
      "text/plain": [
       "38"
      ]
     },
     "execution_count": 3,
     "metadata": {},
     "output_type": "execute_result"
    }
   ],
   "source": [
    "num1=23; num2=15; num1+num2"
   ]
  },
  {
   "cell_type": "markdown",
   "id": "cf2bcecf",
   "metadata": {},
   "source": [
    "##String operations\n",
    "name=\"Harshada\"\n",
    "name.lower()"
   ]
  },
  {
   "cell_type": "code",
   "execution_count": 45,
   "id": "4c372d20",
   "metadata": {},
   "outputs": [
    {
     "data": {
      "text/plain": [
       "'HARSHADA'"
      ]
     },
     "execution_count": 45,
     "metadata": {},
     "output_type": "execute_result"
    }
   ],
   "source": [
    "name.upper()"
   ]
  },
  {
   "cell_type": "code",
   "execution_count": 46,
   "id": "d3a727fe",
   "metadata": {},
   "outputs": [
    {
     "name": "stdout",
     "output_type": "stream",
     "text": [
      "HARSHADA\n"
     ]
    }
   ],
   "source": [
    "x=name.upper()\n",
    "print(x)"
   ]
  },
  {
   "cell_type": "code",
   "execution_count": 48,
   "id": "ed340007",
   "metadata": {},
   "outputs": [
    {
     "data": {
      "text/plain": [
       "'hARSHADA'"
      ]
     },
     "execution_count": 48,
     "metadata": {},
     "output_type": "execute_result"
    }
   ],
   "source": [
    "name.swapcase()"
   ]
  },
  {
   "cell_type": "code",
   "execution_count": 49,
   "id": "80e3a17d",
   "metadata": {},
   "outputs": [
    {
     "data": {
      "text/plain": [
       "8"
      ]
     },
     "execution_count": 49,
     "metadata": {},
     "output_type": "execute_result"
    }
   ],
   "source": [
    "len(name)"
   ]
  },
  {
   "cell_type": "code",
   "execution_count": 50,
   "id": "42c30f8f",
   "metadata": {},
   "outputs": [
    {
     "data": {
      "text/plain": [
       "False"
      ]
     },
     "execution_count": 50,
     "metadata": {},
     "output_type": "execute_result"
    }
   ],
   "source": [
    "name.islower()"
   ]
  },
  {
   "cell_type": "code",
   "execution_count": 51,
   "id": "642a7383",
   "metadata": {},
   "outputs": [
    {
     "data": {
      "text/plain": [
       "False"
      ]
     },
     "execution_count": 51,
     "metadata": {},
     "output_type": "execute_result"
    }
   ],
   "source": [
    "name.isupper()"
   ]
  },
  {
   "cell_type": "code",
   "execution_count": 56,
   "id": "97c5585b",
   "metadata": {},
   "outputs": [
    {
     "data": {
      "text/plain": [
       "True"
      ]
     },
     "execution_count": 56,
     "metadata": {},
     "output_type": "execute_result"
    }
   ],
   "source": [
    "name.istitle()"
   ]
  },
  {
   "cell_type": "code",
   "execution_count": 6,
   "id": "d14c04df",
   "metadata": {},
   "outputs": [],
   "source": [
    "name=' Harshada '"
   ]
  },
  {
   "cell_type": "code",
   "execution_count": 58,
   "id": "ae3f0042",
   "metadata": {},
   "outputs": [
    {
     "data": {
      "text/plain": [
       "'Harshada '"
      ]
     },
     "execution_count": 58,
     "metadata": {},
     "output_type": "execute_result"
    }
   ],
   "source": [
    "name.lstrip()"
   ]
  },
  {
   "cell_type": "code",
   "execution_count": 61,
   "id": "6684807d",
   "metadata": {},
   "outputs": [
    {
     "data": {
      "text/plain": [
       "' Harshada'"
      ]
     },
     "execution_count": 61,
     "metadata": {},
     "output_type": "execute_result"
    }
   ],
   "source": [
    "name.rstrip()"
   ]
  },
  {
   "cell_type": "code",
   "execution_count": 62,
   "id": "b9669953",
   "metadata": {},
   "outputs": [
    {
     "data": {
      "text/plain": [
       "'Harshada'"
      ]
     },
     "execution_count": 62,
     "metadata": {},
     "output_type": "execute_result"
    }
   ],
   "source": [
    "name.strip()"
   ]
  },
  {
   "cell_type": "code",
   "execution_count": 64,
   "id": "59a679d3",
   "metadata": {},
   "outputs": [
    {
     "data": {
      "text/plain": [
       "False"
      ]
     },
     "execution_count": 64,
     "metadata": {},
     "output_type": "execute_result"
    }
   ],
   "source": [
    "name.startswith('H')"
   ]
  },
  {
   "cell_type": "code",
   "execution_count": 65,
   "id": "7c661d56",
   "metadata": {},
   "outputs": [
    {
     "data": {
      "text/plain": [
       "False"
      ]
     },
     "execution_count": 65,
     "metadata": {},
     "output_type": "execute_result"
    }
   ],
   "source": [
    "name.endswith('A')"
   ]
  },
  {
   "cell_type": "code",
   "execution_count": 8,
   "id": "82d52bb2",
   "metadata": {},
   "outputs": [
    {
     "data": {
      "text/plain": [
       "False"
      ]
     },
     "execution_count": 8,
     "metadata": {},
     "output_type": "execute_result"
    }
   ],
   "source": [
    "name.endswith('a ')"
   ]
  },
  {
   "cell_type": "code",
   "execution_count": 68,
   "id": "07fea14f",
   "metadata": {},
   "outputs": [
    {
     "data": {
      "text/plain": [
       "'C:\\\\Users\\\\RITESH'"
      ]
     },
     "execution_count": 68,
     "metadata": {},
     "output_type": "execute_result"
    }
   ],
   "source": [
    "pwd #present working directory"
   ]
  },
  {
   "cell_type": "code",
   "execution_count": 69,
   "id": "37811f6f",
   "metadata": {},
   "outputs": [
    {
     "data": {
      "text/plain": [
       "' Haarshada '"
      ]
     },
     "execution_count": 69,
     "metadata": {},
     "output_type": "execute_result"
    }
   ],
   "source": [
    "name.replace('H', 'Ha') #replace letter with another letter"
   ]
  },
  {
   "cell_type": "code",
   "execution_count": 70,
   "id": "082040f1",
   "metadata": {},
   "outputs": [
    {
     "data": {
      "text/plain": [
       "2"
      ]
     },
     "execution_count": 70,
     "metadata": {},
     "output_type": "execute_result"
    }
   ],
   "source": [
    "name.find('a')"
   ]
  },
  {
   "cell_type": "code",
   "execution_count": 71,
   "id": "4e29c27a",
   "metadata": {},
   "outputs": [
    {
     "data": {
      "text/plain": [
       "' Harshada '"
      ]
     },
     "execution_count": 71,
     "metadata": {},
     "output_type": "execute_result"
    }
   ],
   "source": [
    "name"
   ]
  },
  {
   "cell_type": "code",
   "execution_count": 72,
   "id": "6723e319",
   "metadata": {},
   "outputs": [
    {
     "data": {
      "text/plain": [
       "['__add__',\n",
       " '__class__',\n",
       " '__contains__',\n",
       " '__delattr__',\n",
       " '__dir__',\n",
       " '__doc__',\n",
       " '__eq__',\n",
       " '__format__',\n",
       " '__ge__',\n",
       " '__getattribute__',\n",
       " '__getitem__',\n",
       " '__getnewargs__',\n",
       " '__getstate__',\n",
       " '__gt__',\n",
       " '__hash__',\n",
       " '__init__',\n",
       " '__init_subclass__',\n",
       " '__iter__',\n",
       " '__le__',\n",
       " '__len__',\n",
       " '__lt__',\n",
       " '__mod__',\n",
       " '__mul__',\n",
       " '__ne__',\n",
       " '__new__',\n",
       " '__reduce__',\n",
       " '__reduce_ex__',\n",
       " '__repr__',\n",
       " '__rmod__',\n",
       " '__rmul__',\n",
       " '__setattr__',\n",
       " '__sizeof__',\n",
       " '__str__',\n",
       " '__subclasshook__',\n",
       " 'capitalize',\n",
       " 'casefold',\n",
       " 'center',\n",
       " 'count',\n",
       " 'encode',\n",
       " 'endswith',\n",
       " 'expandtabs',\n",
       " 'find',\n",
       " 'format',\n",
       " 'format_map',\n",
       " 'index',\n",
       " 'isalnum',\n",
       " 'isalpha',\n",
       " 'isascii',\n",
       " 'isdecimal',\n",
       " 'isdigit',\n",
       " 'isidentifier',\n",
       " 'islower',\n",
       " 'isnumeric',\n",
       " 'isprintable',\n",
       " 'isspace',\n",
       " 'istitle',\n",
       " 'isupper',\n",
       " 'join',\n",
       " 'ljust',\n",
       " 'lower',\n",
       " 'lstrip',\n",
       " 'maketrans',\n",
       " 'partition',\n",
       " 'removeprefix',\n",
       " 'removesuffix',\n",
       " 'replace',\n",
       " 'rfind',\n",
       " 'rindex',\n",
       " 'rjust',\n",
       " 'rpartition',\n",
       " 'rsplit',\n",
       " 'rstrip',\n",
       " 'split',\n",
       " 'splitlines',\n",
       " 'startswith',\n",
       " 'strip',\n",
       " 'swapcase',\n",
       " 'title',\n",
       " 'translate',\n",
       " 'upper',\n",
       " 'zfill']"
      ]
     },
     "execution_count": 72,
     "metadata": {},
     "output_type": "execute_result"
    }
   ],
   "source": [
    "dir(name)"
   ]
  },
  {
   "cell_type": "code",
   "execution_count": 73,
   "id": "d36bc5e8",
   "metadata": {},
   "outputs": [
    {
     "name": "stdout",
     "output_type": "stream",
     "text": [
      "Help on built-in function join:\n",
      "\n",
      "join(iterable, /) method of builtins.str instance\n",
      "    Concatenate any number of strings.\n",
      "    \n",
      "    The string whose method is called is inserted in between each given string.\n",
      "    The result is returned as a new string.\n",
      "    \n",
      "    Example: '.'.join(['ab', 'pq', 'rs']) -> 'ab.pq.rs'\n",
      "\n"
     ]
    }
   ],
   "source": [
    "help(name.join)"
   ]
  },
  {
   "cell_type": "code",
   "execution_count": 74,
   "id": "0ebb7e77",
   "metadata": {},
   "outputs": [],
   "source": [
    "name1=\"hello\"\n",
    "name2='world'"
   ]
  },
  {
   "cell_type": "code",
   "execution_count": 77,
   "id": "283b6ce2",
   "metadata": {},
   "outputs": [],
   "source": [
    "data =name1 +' ' + name2 + '123'"
   ]
  },
  {
   "cell_type": "code",
   "execution_count": 78,
   "id": "8f9feacc",
   "metadata": {},
   "outputs": [
    {
     "data": {
      "text/plain": [
       "'hello world123'"
      ]
     },
     "execution_count": 78,
     "metadata": {},
     "output_type": "execute_result"
    }
   ],
   "source": [
    "data"
   ]
  },
  {
   "cell_type": "code",
   "execution_count": 79,
   "id": "78457bee",
   "metadata": {},
   "outputs": [
    {
     "name": "stdout",
     "output_type": "stream",
     "text": [
      "Hello\n",
      "world\n"
     ]
    }
   ],
   "source": [
    "#Escape sequences\n",
    "print('Hello\\nworld')"
   ]
  },
  {
   "cell_type": "code",
   "execution_count": 80,
   "id": "6c7bedf2",
   "metadata": {},
   "outputs": [
    {
     "name": "stdout",
     "output_type": "stream",
     "text": [
      "Hello\tworld\n"
     ]
    }
   ],
   "source": [
    "print('Hello\\tworld')"
   ]
  },
  {
   "cell_type": "code",
   "execution_count": 81,
   "id": "07d09800",
   "metadata": {},
   "outputs": [
    {
     "name": "stdout",
     "output_type": "stream",
     "text": [
      "Hello\\world\n"
     ]
    }
   ],
   "source": [
    "print('Hello\\\\world')"
   ]
  },
  {
   "cell_type": "code",
   "execution_count": 83,
   "id": "9bf48d7d",
   "metadata": {},
   "outputs": [
    {
     "name": "stdout",
     "output_type": "stream",
     "text": [
      "Hello\"World\n"
     ]
    }
   ],
   "source": [
    "print('Hello\\\"World')"
   ]
  },
  {
   "cell_type": "code",
   "execution_count": 84,
   "id": "b94e3435",
   "metadata": {},
   "outputs": [],
   "source": [
    "doc='''this is first line\n",
    "this is second line\n",
    "'''"
   ]
  },
  {
   "cell_type": "code",
   "execution_count": 85,
   "id": "fb815575",
   "metadata": {},
   "outputs": [
    {
     "data": {
      "text/plain": [
       "'this is first line\\nthis is second line\\n'"
      ]
     },
     "execution_count": 85,
     "metadata": {},
     "output_type": "execute_result"
    }
   ],
   "source": [
    "doc"
   ]
  },
  {
   "cell_type": "code",
   "execution_count": 86,
   "id": "1b9ec6fb",
   "metadata": {},
   "outputs": [],
   "source": [
    "#print function"
   ]
  },
  {
   "cell_type": "code",
   "execution_count": 97,
   "id": "604f8841",
   "metadata": {},
   "outputs": [],
   "source": [
    "name=\"Harshada\"\n",
    "marks = 85\n",
    "city='Sangli'"
   ]
  },
  {
   "cell_type": "code",
   "execution_count": 90,
   "id": "a526dd26",
   "metadata": {},
   "outputs": [
    {
     "name": "stdout",
     "output_type": "stream",
     "text": [
      "my name is Harshada and marks are 85\n"
     ]
    }
   ],
   "source": [
    "print('my name is', name,'and marks are', marks)"
   ]
  },
  {
   "cell_type": "code",
   "execution_count": 93,
   "id": "6cd6613b",
   "metadata": {},
   "outputs": [
    {
     "name": "stdout",
     "output_type": "stream",
     "text": [
      "my name is Harshada and marks are 85\n"
     ]
    }
   ],
   "source": [
    "#formatted print\n",
    "print('my name is %s and marks are %i'%(name, marks))"
   ]
  },
  {
   "cell_type": "code",
   "execution_count": 94,
   "id": "4c8a4823",
   "metadata": {},
   "outputs": [
    {
     "name": "stdout",
     "output_type": "stream",
     "text": [
      "my name is Harshada and marks are 85.000000\n"
     ]
    }
   ],
   "source": [
    "#formatted print\n",
    "print('my name is %s and marks are %f'%(name, marks))"
   ]
  },
  {
   "cell_type": "code",
   "execution_count": 95,
   "id": "7c5240c6",
   "metadata": {},
   "outputs": [
    {
     "name": "stdout",
     "output_type": "stream",
     "text": [
      "my name is Harshada and marks are 85.000\n"
     ]
    }
   ],
   "source": [
    "#formatted print\n",
    "print('my name is %s and marks are %.3f'%(name, marks))"
   ]
  },
  {
   "cell_type": "code",
   "execution_count": 98,
   "id": "57f5f62f",
   "metadata": {},
   "outputs": [
    {
     "name": "stdout",
     "output_type": "stream",
     "text": [
      "Harshada 85 Sangli\n"
     ]
    }
   ],
   "source": [
    "print(name, marks, city)"
   ]
  },
  {
   "cell_type": "code",
   "execution_count": 99,
   "id": "f3b808dd",
   "metadata": {},
   "outputs": [
    {
     "name": "stdout",
     "output_type": "stream",
     "text": [
      "Harshada=85=Sangli\n"
     ]
    }
   ],
   "source": [
    "print(name, marks, city, sep='=')"
   ]
  },
  {
   "cell_type": "code",
   "execution_count": 100,
   "id": "7bcefeae",
   "metadata": {},
   "outputs": [
    {
     "name": "stdout",
     "output_type": "stream",
     "text": [
      "Harshada 85 Sangli="
     ]
    }
   ],
   "source": [
    "print(name, marks, city, end=' = ')"
   ]
  },
  {
   "cell_type": "code",
   "execution_count": 101,
   "id": "0851dae4",
   "metadata": {},
   "outputs": [
    {
     "data": {
      "text/plain": [
       "3.3333333333333335"
      ]
     },
     "execution_count": 101,
     "metadata": {},
     "output_type": "execute_result"
    }
   ],
   "source": [
    "#operators\n",
    "10/3"
   ]
  },
  {
   "cell_type": "code",
   "execution_count": 102,
   "id": "cb4d68cc",
   "metadata": {},
   "outputs": [
    {
     "data": {
      "text/plain": [
       "3"
      ]
     },
     "execution_count": 102,
     "metadata": {},
     "output_type": "execute_result"
    }
   ],
   "source": [
    "10//3 #floor division"
   ]
  },
  {
   "cell_type": "code",
   "execution_count": 103,
   "id": "4cfa48a9",
   "metadata": {},
   "outputs": [
    {
     "data": {
      "text/plain": [
       "1"
      ]
     },
     "execution_count": 103,
     "metadata": {},
     "output_type": "execute_result"
    }
   ],
   "source": [
    "10%3"
   ]
  },
  {
   "cell_type": "code",
   "execution_count": 104,
   "id": "8f1d0555",
   "metadata": {},
   "outputs": [
    {
     "data": {
      "text/plain": [
       "8"
      ]
     },
     "execution_count": 104,
     "metadata": {},
     "output_type": "execute_result"
    }
   ],
   "source": [
    "2**3"
   ]
  },
  {
   "cell_type": "code",
   "execution_count": 105,
   "id": "d2ba3de1",
   "metadata": {},
   "outputs": [
    {
     "data": {
      "text/plain": [
       "23"
      ]
     },
     "execution_count": 105,
     "metadata": {},
     "output_type": "execute_result"
    }
   ],
   "source": [
    "#relational operators\n",
    "num1"
   ]
  },
  {
   "cell_type": "code",
   "execution_count": 106,
   "id": "d5b7d81f",
   "metadata": {},
   "outputs": [
    {
     "data": {
      "text/plain": [
       "15"
      ]
     },
     "execution_count": 106,
     "metadata": {},
     "output_type": "execute_result"
    }
   ],
   "source": [
    "num2"
   ]
  },
  {
   "cell_type": "code",
   "execution_count": 107,
   "id": "7d7c8627",
   "metadata": {},
   "outputs": [
    {
     "data": {
      "text/plain": [
       "True"
      ]
     },
     "execution_count": 107,
     "metadata": {},
     "output_type": "execute_result"
    }
   ],
   "source": [
    "num1 > num2"
   ]
  },
  {
   "cell_type": "code",
   "execution_count": 108,
   "id": "147ea69b",
   "metadata": {},
   "outputs": [
    {
     "data": {
      "text/plain": [
       "False"
      ]
     },
     "execution_count": 108,
     "metadata": {},
     "output_type": "execute_result"
    }
   ],
   "source": [
    "num1 == num2"
   ]
  },
  {
   "cell_type": "code",
   "execution_count": 109,
   "id": "ac3b7fb3",
   "metadata": {},
   "outputs": [
    {
     "data": {
      "text/plain": [
       "False"
      ]
     },
     "execution_count": 109,
     "metadata": {},
     "output_type": "execute_result"
    }
   ],
   "source": [
    "num1 < num2"
   ]
  },
  {
   "cell_type": "code",
   "execution_count": 118,
   "id": "5813afa7",
   "metadata": {},
   "outputs": [
    {
     "data": {
      "text/plain": [
       "True"
      ]
     },
     "execution_count": 118,
     "metadata": {},
     "output_type": "execute_result"
    }
   ],
   "source": [
    "num1 >=num2"
   ]
  },
  {
   "cell_type": "code",
   "execution_count": 113,
   "id": "d9195df5",
   "metadata": {},
   "outputs": [],
   "source": [
    "#assignment operator\n",
    "num1 =10\n",
    "num1 += 10"
   ]
  },
  {
   "cell_type": "markdown",
   "id": "4f1a0acc",
   "metadata": {},
   "source": [
    "num1"
   ]
  },
  {
   "cell_type": "code",
   "execution_count": 114,
   "id": "ccf5a74b",
   "metadata": {},
   "outputs": [
    {
     "data": {
      "text/plain": [
       "20"
      ]
     },
     "execution_count": 114,
     "metadata": {},
     "output_type": "execute_result"
    }
   ],
   "source": [
    "num1"
   ]
  },
  {
   "cell_type": "code",
   "execution_count": 115,
   "id": "dde2f832",
   "metadata": {},
   "outputs": [],
   "source": [
    "#logical operator"
   ]
  },
  {
   "cell_type": "code",
   "execution_count": 116,
   "id": "a650ee0c",
   "metadata": {},
   "outputs": [
    {
     "data": {
      "text/plain": [
       "False"
      ]
     },
     "execution_count": 116,
     "metadata": {},
     "output_type": "execute_result"
    }
   ],
   "source": [
    "num1 > num2 and num1 == 10"
   ]
  },
  {
   "cell_type": "code",
   "execution_count": 117,
   "id": "ab26e894",
   "metadata": {},
   "outputs": [
    {
     "data": {
      "text/plain": [
       "True"
      ]
     },
     "execution_count": 117,
     "metadata": {},
     "output_type": "execute_result"
    }
   ],
   "source": [
    "num1 > num2 or num1 == 10"
   ]
  },
  {
   "cell_type": "code",
   "execution_count": 119,
   "id": "53527571",
   "metadata": {},
   "outputs": [],
   "source": [
    "#type casting\n",
    "num1 = 20\n",
    "num2 = 12.11"
   ]
  },
  {
   "cell_type": "code",
   "execution_count": 121,
   "id": "fc95fabd",
   "metadata": {},
   "outputs": [
    {
     "data": {
      "text/plain": [
       "32.11"
      ]
     },
     "execution_count": 121,
     "metadata": {},
     "output_type": "execute_result"
    }
   ],
   "source": [
    "num1 + float(num2)"
   ]
  },
  {
   "cell_type": "code",
   "execution_count": 1,
   "id": "4a2be67b",
   "metadata": {},
   "outputs": [
    {
     "name": "stdout",
     "output_type": "stream",
     "text": [
      "Enter the 1st number:20\n",
      "Enter the 2nd number:10\n",
      "Addition is: 30\n"
     ]
    }
   ],
   "source": [
    "#user input\n",
    "num1 = int(input('Enter the 1st number:'))\n",
    "num2 = int(input('Enter the 2nd number:'))\n",
    "add = num1 + num2\n",
    "print('Addition is:', add)"
   ]
  },
  {
   "cell_type": "code",
   "execution_count": 2,
   "id": "b3888461",
   "metadata": {},
   "outputs": [],
   "source": [
    "num = 50"
   ]
  },
  {
   "cell_type": "code",
   "execution_count": 3,
   "id": "4a67865e",
   "metadata": {},
   "outputs": [
    {
     "name": "stdout",
     "output_type": "stream",
     "text": [
      "Ok\n"
     ]
    }
   ],
   "source": [
    "if num > 40:\n",
    "    print('Ok')"
   ]
  },
  {
   "cell_type": "code",
   "execution_count": 4,
   "id": "ac75f89f",
   "metadata": {},
   "outputs": [
    {
     "name": "stdout",
     "output_type": "stream",
     "text": [
      "ok\n"
     ]
    }
   ],
   "source": [
    "if num > 40:\n",
    "    print('ok')\n",
    "else :\n",
    "    print('Not ok')"
   ]
  },
  {
   "cell_type": "code",
   "execution_count": 5,
   "id": "195066f9",
   "metadata": {},
   "outputs": [
    {
     "name": "stdout",
     "output_type": "stream",
     "text": [
      "Number is positive\n"
     ]
    }
   ],
   "source": [
    "#check if the number is positive or negative\n",
    "if num > 0:\n",
    "    print('Number is positive')\n",
    "else:\n",
    "    print('Number is not positive')\n"
   ]
  },
  {
   "cell_type": "code",
   "execution_count": 8,
   "id": "b340a984",
   "metadata": {},
   "outputs": [
    {
     "name": "stdout",
     "output_type": "stream",
     "text": [
      "Enter the number0\n",
      "zero\n"
     ]
    }
   ],
   "source": [
    "#check if the number is positive or negative\n",
    "num = int(input('Enter the number:'))\n",
    "\n",
    "if num>0 :\n",
    "    print('positive')\n",
    "elif num==0:\n",
    "    print('zero')\n",
    "else:\n",
    "    print('negative')"
   ]
  },
  {
   "cell_type": "code",
   "execution_count": 11,
   "id": "534eeacc",
   "metadata": {},
   "outputs": [
    {
     "name": "stdout",
     "output_type": "stream",
     "text": [
      "Enter the number:98\n",
      "Even\n"
     ]
    }
   ],
   "source": [
    "#check if the number is even or odd\n",
    "num = int(input('Enter the number:'))\n",
    "\n",
    "if num % 2 == 0:\n",
    "    print('Even')\n",
    "else:\n",
    "    print('Odd')"
   ]
  },
  {
   "cell_type": "code",
   "execution_count": 15,
   "id": "5e4b39c5",
   "metadata": {},
   "outputs": [
    {
     "name": "stdout",
     "output_type": "stream",
     "text": [
      "Enter the number:21\n",
      "No\n"
     ]
    }
   ],
   "source": [
    "#check if the number is present in between 50 & 100\n",
    "num = int(input('Enter the number:'))\n",
    "\n",
    "if 50<=num<=100:\n",
    "    print('Yes')\n",
    "else:\n",
    "    print('No')"
   ]
  },
  {
   "cell_type": "code",
   "execution_count": 11,
   "id": "e2ad8da4",
   "metadata": {},
   "outputs": [
    {
     "name": "stdout",
     "output_type": "stream",
     "text": [
      "Enter the number:50\n",
      "No\n"
     ]
    }
   ],
   "source": [
    "#check if the number is present in between 50 & 100\n",
    "num = int(input('Enter the number:'))\n",
    "if num>50:\n",
    "    if num<100:\n",
    "        print('Yes')\n",
    "    else:\n",
    "        print('No')\n",
    "else:\n",
    "    print('No')"
   ]
  },
  {
   "cell_type": "code",
   "execution_count": 25,
   "id": "0d1836c7",
   "metadata": {},
   "outputs": [
    {
     "name": "stdout",
     "output_type": "stream",
     "text": [
      "Enter the number1:32\n",
      "Enter the number2:12\n",
      "Enter the number3:98\n",
      "Greatest is 98\n"
     ]
    }
   ],
   "source": [
    "#take 3 user input\n",
    "num1 = int(input('Enter the number1:'))\n",
    "num2 = int(input('Enter the number2:'))\n",
    "num3 = int(input('Enter the number3:'))\n",
    "\n",
    "if(num1 > num2):\n",
    "    if num1 > num3:\n",
    "        print('Greatest is', num1)\n",
    "    else:\n",
    "        print('Greatest is', num3)\n",
    "else:\n",
    "    if num2>num3:\n",
    "        print('greatest is', num2)\n",
    "    else:\n",
    "        print('Greatest is', num3)\n"
   ]
  },
  {
   "cell_type": "code",
   "execution_count": 33,
   "id": "fd145818",
   "metadata": {},
   "outputs": [
    {
     "name": "stdout",
     "output_type": "stream",
     "text": [
      "Enter the year:1800\n",
      "No\n"
     ]
    }
   ],
   "source": [
    "num = int(input('Enter the year:'))\n",
    "if num%100 == 0:\n",
    "    if num % 400 == 0:\n",
    "        print('It is a leap year')\n",
    "    else:\n",
    "        print('It is Not a leap year')\n",
    "else:\n",
    "    if num%4 ==0:\n",
    "        print('It is a leap year')\n",
    "    else:\n",
    "        print('It is Not a leap year')\n",
    "    "
   ]
  },
  {
   "cell_type": "code",
   "execution_count": 36,
   "id": "bb958917",
   "metadata": {},
   "outputs": [
    {
     "name": "stdout",
     "output_type": "stream",
     "text": [
      "Enter the year:1900\n",
      "It is a not a leap year\n"
     ]
    }
   ],
   "source": [
    "year = int(input('Enter the year:'))\n",
    "\n",
    "if year % 4: \n",
    "    if year % 100 ==0: \n",
    "        if year % 400 == 0: \n",
    "            print('It is a leap year') \n",
    "        else: print('Not a leap year') \n",
    "    else: print('It is a leap year')\n",
    "else: print('It is a not a leap year')"
   ]
  },
  {
   "cell_type": "code",
   "execution_count": null,
   "id": "da095e5b",
   "metadata": {},
   "outputs": [],
   "source": [
    "#Menu driven\n",
    "'''\n",
    "1.square\n",
    "2.cube\n",
    "3.positive or negative'''\n",
    "\n",
    "num = int(input('Enter the num:'))\n",
    "\n",
    "print('MENU\\n1.Square\\n2.Cube\\n3.Positive or negative')\n",
    "\n",
    "ch = int (input('Enter your choice'))\n",
    "\n",
    "if ch==1:\n",
    "    print('Square is', num * num)\n",
    "elif ch == 2:\n",
    "    print('Cube is', num ** 3)\n",
    "elif ch ==3:\n",
    "    if num>0\n",
    "        print('Positive')\n",
    "    else:\n",
    "        print('Negative')\n",
    "else:\n",
    "    print('Invalid choice')"
   ]
  },
  {
   "cell_type": "code",
   "execution_count": 39,
   "id": "f05d05db",
   "metadata": {},
   "outputs": [
    {
     "name": "stdout",
     "output_type": "stream",
     "text": [
      "Enter the num:435\n",
      "MENU\n",
      "1.Square\n",
      "2.Cube\n",
      "3.Positive or negative\n",
      "Enter your choice1\n",
      "Square is 189225\n"
     ]
    }
   ],
   "source": [
    "#Menu driven\n",
    "'''\n",
    "1.square\n",
    "2.cube\n",
    "3.positive or negative'''\n",
    "\n",
    "num = int(input('Enter the num:'))\n",
    "\n",
    "print('MENU\\n1.Square\\n2.Cube\\n3.Positive or negative')\n",
    "\n",
    "ch = int (input('Enter your choice'))\n",
    "\n",
    "if ch==1:\n",
    "    print('Square is', num * num)\n",
    "elif ch == 2:\n",
    "    print('Cube is', num ** 3)\n",
    "elif ch ==3:\n",
    "    if num > 0 :\n",
    "        print('Positive')\n",
    "    else:\n",
    "        print('Negative')\n",
    "else:\n",
    "    print('Invalid choice')"
   ]
  },
  {
   "cell_type": "code",
   "execution_count": null,
   "id": "e664ccf4",
   "metadata": {},
   "outputs": [],
   "source": []
  }
 ],
 "metadata": {
  "kernelspec": {
   "display_name": "Python 3 (ipykernel)",
   "language": "python",
   "name": "python3"
  },
  "language_info": {
   "codemirror_mode": {
    "name": "ipython",
    "version": 3
   },
   "file_extension": ".py",
   "mimetype": "text/x-python",
   "name": "python",
   "nbconvert_exporter": "python",
   "pygments_lexer": "ipython3",
   "version": "3.11.5"
  }
 },
 "nbformat": 4,
 "nbformat_minor": 5
}

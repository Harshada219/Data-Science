{
 "cells": [
  {
   "cell_type": "code",
   "execution_count": 8,
   "id": "b2fdcdc5",
   "metadata": {},
   "outputs": [
    {
     "data": {
      "text/plain": [
       "list"
      ]
     },
     "execution_count": 8,
     "metadata": {},
     "output_type": "execute_result"
    }
   ],
   "source": [
    "#list[], set{}, tuple() & dictionary{:} these 4 data structure are used in python\n",
    "#properties: 1.duplicates are allowed 2.heterogenous 3.ordered 4.mutable\n",
    "l=[23, 45, 67, 89, 65, 78, 23, 78]\n",
    "type(l)\n"
   ]
  },
  {
   "cell_type": "code",
   "execution_count": 2,
   "id": "dd6f2363",
   "metadata": {},
   "outputs": [
    {
     "data": {
      "text/plain": [
       "[23, 45, 67, 89, 65, 78]"
      ]
     },
     "execution_count": 2,
     "metadata": {},
     "output_type": "execute_result"
    }
   ],
   "source": [
    "l"
   ]
  },
  {
   "cell_type": "code",
   "execution_count": 3,
   "id": "bc2c7834",
   "metadata": {},
   "outputs": [
    {
     "name": "stdout",
     "output_type": "stream",
     "text": [
      "[23, 45, 67, 89, 65, 78]\n"
     ]
    }
   ],
   "source": [
    "print(l)"
   ]
  },
  {
   "cell_type": "code",
   "execution_count": 4,
   "id": "471e4487",
   "metadata": {},
   "outputs": [],
   "source": [
    "l1 = [23, 45, 67, 89, 65, 'Harshada', 78.22, 23, 78]"
   ]
  },
  {
   "cell_type": "code",
   "execution_count": 5,
   "id": "138c720b",
   "metadata": {},
   "outputs": [
    {
     "data": {
      "text/plain": [
       "[23, 45, 67, 89, 65, 'Harshada', 78.22, 23, 78]"
      ]
     },
     "execution_count": 5,
     "metadata": {},
     "output_type": "execute_result"
    }
   ],
   "source": [
    "l1"
   ]
  },
  {
   "cell_type": "code",
   "execution_count": 6,
   "id": "3b2ed7e7",
   "metadata": {},
   "outputs": [
    {
     "data": {
      "text/plain": [
       "67"
      ]
     },
     "execution_count": 6,
     "metadata": {},
     "output_type": "execute_result"
    }
   ],
   "source": [
    "l[2]"
   ]
  },
  {
   "cell_type": "code",
   "execution_count": 9,
   "id": "48830669",
   "metadata": {},
   "outputs": [
    {
     "data": {
      "text/plain": [
       "23"
      ]
     },
     "execution_count": 9,
     "metadata": {},
     "output_type": "execute_result"
    }
   ],
   "source": [
    "l[-2]"
   ]
  },
  {
   "cell_type": "code",
   "execution_count": 10,
   "id": "42eb8549",
   "metadata": {},
   "outputs": [],
   "source": [
    "l[1] = 50"
   ]
  },
  {
   "cell_type": "code",
   "execution_count": 11,
   "id": "7f0c5758",
   "metadata": {},
   "outputs": [
    {
     "data": {
      "text/plain": [
       "[23, 50, 67, 89, 65, 78, 23, 78]"
      ]
     },
     "execution_count": 11,
     "metadata": {},
     "output_type": "execute_result"
    }
   ],
   "source": [
    "l"
   ]
  },
  {
   "cell_type": "code",
   "execution_count": 12,
   "id": "3d555d66",
   "metadata": {},
   "outputs": [
    {
     "data": {
      "text/plain": [
       "[50, 67, 89, 65, 78]"
      ]
     },
     "execution_count": 12,
     "metadata": {},
     "output_type": "execute_result"
    }
   ],
   "source": [
    "#slicing\n",
    "l[1:6]"
   ]
  },
  {
   "cell_type": "code",
   "execution_count": 13,
   "id": "df295dd9",
   "metadata": {},
   "outputs": [
    {
     "data": {
      "text/plain": [
       "[50, 67, 89, 65, 78, 23, 78]"
      ]
     },
     "execution_count": 13,
     "metadata": {},
     "output_type": "execute_result"
    }
   ],
   "source": [
    "l[1:]"
   ]
  },
  {
   "cell_type": "code",
   "execution_count": 14,
   "id": "905b4130",
   "metadata": {},
   "outputs": [
    {
     "data": {
      "text/plain": [
       "[23, 50, 67, 89, 65]"
      ]
     },
     "execution_count": 14,
     "metadata": {},
     "output_type": "execute_result"
    }
   ],
   "source": [
    "l[:5]"
   ]
  },
  {
   "cell_type": "code",
   "execution_count": 15,
   "id": "774815f3",
   "metadata": {},
   "outputs": [
    {
     "data": {
      "text/plain": [
       "[23, 50, 67, 89, 65, 78, 23, 78]"
      ]
     },
     "execution_count": 15,
     "metadata": {},
     "output_type": "execute_result"
    }
   ],
   "source": [
    "l"
   ]
  },
  {
   "cell_type": "code",
   "execution_count": 16,
   "id": "40b4c5b6",
   "metadata": {},
   "outputs": [
    {
     "data": {
      "text/plain": [
       "[50, 89, 78]"
      ]
     },
     "execution_count": 16,
     "metadata": {},
     "output_type": "execute_result"
    }
   ],
   "source": [
    "l[1:6:2] \n",
    "#parameter =. [start, end, step]"
   ]
  },
  {
   "cell_type": "code",
   "execution_count": 17,
   "id": "bfc8f988",
   "metadata": {},
   "outputs": [
    {
     "data": {
      "text/plain": [
       "[23, 50, 67, 89, 65, 78, 23, 78]"
      ]
     },
     "execution_count": 17,
     "metadata": {},
     "output_type": "execute_result"
    }
   ],
   "source": [
    "l[:]"
   ]
  },
  {
   "cell_type": "code",
   "execution_count": 18,
   "id": "e349fb2d",
   "metadata": {},
   "outputs": [],
   "source": [
    "l[1:4] = [34, 70, 80]"
   ]
  },
  {
   "cell_type": "code",
   "execution_count": 25,
   "id": "d1b842fe",
   "metadata": {},
   "outputs": [
    {
     "data": {
      "text/plain": [
       "[23, 70, 80, 65, 78, 23, 78]"
      ]
     },
     "execution_count": 25,
     "metadata": {},
     "output_type": "execute_result"
    }
   ],
   "source": [
    "l"
   ]
  },
  {
   "cell_type": "code",
   "execution_count": 20,
   "id": "1212e836",
   "metadata": {},
   "outputs": [
    {
     "data": {
      "text/plain": [
       "[34, 70, 80]"
      ]
     },
     "execution_count": 20,
     "metadata": {},
     "output_type": "execute_result"
    }
   ],
   "source": [
    "l[1:4]"
   ]
  },
  {
   "cell_type": "code",
   "execution_count": 21,
   "id": "4a5efc86",
   "metadata": {},
   "outputs": [
    {
     "data": {
      "text/plain": [
       "False"
      ]
     },
     "execution_count": 21,
     "metadata": {},
     "output_type": "execute_result"
    }
   ],
   "source": [
    "#in operator\n",
    "74 in l"
   ]
  },
  {
   "cell_type": "code",
   "execution_count": 22,
   "id": "3ba91cf5",
   "metadata": {},
   "outputs": [
    {
     "data": {
      "text/plain": [
       "True"
      ]
     },
     "execution_count": 22,
     "metadata": {},
     "output_type": "execute_result"
    }
   ],
   "source": [
    "23 in l"
   ]
  },
  {
   "cell_type": "code",
   "execution_count": 23,
   "id": "ecb97652",
   "metadata": {},
   "outputs": [],
   "source": [
    "#remove\n",
    "del l[1]"
   ]
  },
  {
   "cell_type": "code",
   "execution_count": 24,
   "id": "fad3304c",
   "metadata": {},
   "outputs": [
    {
     "name": "stdout",
     "output_type": "stream",
     "text": [
      "[23, 70, 80, 65, 78, 23, 78]\n"
     ]
    }
   ],
   "source": [
    "print(l)"
   ]
  },
  {
   "cell_type": "code",
   "execution_count": 26,
   "id": "18153709",
   "metadata": {},
   "outputs": [],
   "source": [
    "#Arithmetic operation"
   ]
  },
  {
   "cell_type": "code",
   "execution_count": 27,
   "id": "9bf93775",
   "metadata": {},
   "outputs": [
    {
     "data": {
      "text/plain": [
       "[23, 70, 80, 65, 78, 23, 78, 23, 70, 80, 65, 78, 23, 78]"
      ]
     },
     "execution_count": 27,
     "metadata": {},
     "output_type": "execute_result"
    }
   ],
   "source": [
    "l * 2"
   ]
  },
  {
   "cell_type": "code",
   "execution_count": 28,
   "id": "c5210e98",
   "metadata": {},
   "outputs": [
    {
     "data": {
      "text/plain": [
       "[23, 70, 80, 65, 78, 23, 78, 45, 60]"
      ]
     },
     "execution_count": 28,
     "metadata": {},
     "output_type": "execute_result"
    }
   ],
   "source": [
    "l + [45, 60]"
   ]
  },
  {
   "cell_type": "code",
   "execution_count": 29,
   "id": "fb059ed8",
   "metadata": {},
   "outputs": [
    {
     "data": {
      "text/plain": [
       "[23, 70, 80, 65, 78, 23, 78]"
      ]
     },
     "execution_count": 29,
     "metadata": {},
     "output_type": "execute_result"
    }
   ],
   "source": [
    "l"
   ]
  },
  {
   "cell_type": "code",
   "execution_count": 34,
   "id": "0ebdbfa0",
   "metadata": {},
   "outputs": [
    {
     "name": "stdout",
     "output_type": "stream",
     "text": [
      "23\n",
      "65\n",
      "23\n"
     ]
    }
   ],
   "source": [
    "for n in l:\n",
    "    if n % 2 == 1:\n",
    "        print(n)"
   ]
  },
  {
   "cell_type": "code",
   "execution_count": 35,
   "id": "363c06f6",
   "metadata": {},
   "outputs": [],
   "source": [
    "#empty list\n",
    "e = []"
   ]
  },
  {
   "cell_type": "code",
   "execution_count": 40,
   "id": "bb58c4c0",
   "metadata": {},
   "outputs": [],
   "source": [
    "e += [20]"
   ]
  },
  {
   "cell_type": "code",
   "execution_count": 41,
   "id": "29660e0f",
   "metadata": {},
   "outputs": [
    {
     "data": {
      "text/plain": [
       "[20, 20, 20]"
      ]
     },
     "execution_count": 41,
     "metadata": {},
     "output_type": "execute_result"
    }
   ],
   "source": [
    "e"
   ]
  },
  {
   "cell_type": "code",
   "execution_count": 2,
   "id": "d874daf9",
   "metadata": {},
   "outputs": [],
   "source": [
    "#list in list\n",
    "li=[23, 34, 12, 45,[43,67,54], 12]"
   ]
  },
  {
   "cell_type": "code",
   "execution_count": 3,
   "id": "fea4ad6a",
   "metadata": {},
   "outputs": [
    {
     "data": {
      "text/plain": [
       "43"
      ]
     },
     "execution_count": 3,
     "metadata": {},
     "output_type": "execute_result"
    }
   ],
   "source": [
    "li[4][0]"
   ]
  },
  {
   "cell_type": "code",
   "execution_count": 4,
   "id": "19667e8c",
   "metadata": {},
   "outputs": [
    {
     "ename": "TypeError",
     "evalue": "'<' not supported between instances of 'list' and 'int'",
     "output_type": "error",
     "traceback": [
      "\u001b[1;31m---------------------------------------------------------------------------\u001b[0m",
      "\u001b[1;31mTypeError\u001b[0m                                 Traceback (most recent call last)",
      "Cell \u001b[1;32mIn[4], line 2\u001b[0m\n\u001b[0;32m      1\u001b[0m \u001b[38;5;66;03m#function on list\u001b[39;00m\n\u001b[1;32m----> 2\u001b[0m \u001b[38;5;28mmin\u001b[39m(li)\n",
      "\u001b[1;31mTypeError\u001b[0m: '<' not supported between instances of 'list' and 'int'"
     ]
    }
   ],
   "source": [
    "#function on list\n",
    "min(li)"
   ]
  },
  {
   "cell_type": "code",
   "execution_count": 5,
   "id": "8d8c5d8e",
   "metadata": {},
   "outputs": [
    {
     "ename": "TypeError",
     "evalue": "'>' not supported between instances of 'list' and 'int'",
     "output_type": "error",
     "traceback": [
      "\u001b[1;31m---------------------------------------------------------------------------\u001b[0m",
      "\u001b[1;31mTypeError\u001b[0m                                 Traceback (most recent call last)",
      "Cell \u001b[1;32mIn[5], line 1\u001b[0m\n\u001b[1;32m----> 1\u001b[0m \u001b[38;5;28mmax\u001b[39m(li)\n",
      "\u001b[1;31mTypeError\u001b[0m: '>' not supported between instances of 'list' and 'int'"
     ]
    }
   ],
   "source": [
    "max(li)"
   ]
  },
  {
   "cell_type": "code",
   "execution_count": 59,
   "id": "c62d9fde",
   "metadata": {},
   "outputs": [
    {
     "ename": "TypeError",
     "evalue": "'<' not supported between instances of 'list' and 'int'",
     "output_type": "error",
     "traceback": [
      "\u001b[1;31m---------------------------------------------------------------------------\u001b[0m",
      "\u001b[1;31mTypeError\u001b[0m                                 Traceback (most recent call last)",
      "Cell \u001b[1;32mIn[59], line 1\u001b[0m\n\u001b[1;32m----> 1\u001b[0m \u001b[38;5;28msorted\u001b[39m(li)\n",
      "\u001b[1;31mTypeError\u001b[0m: '<' not supported between instances of 'list' and 'int'"
     ]
    }
   ],
   "source": [
    "sorted(li)"
   ]
  },
  {
   "cell_type": "code",
   "execution_count": 60,
   "id": "0ddc9582",
   "metadata": {},
   "outputs": [
    {
     "ename": "NameError",
     "evalue": "name 'l3' is not defined",
     "output_type": "error",
     "traceback": [
      "\u001b[1;31m---------------------------------------------------------------------------\u001b[0m",
      "\u001b[1;31mNameError\u001b[0m                                 Traceback (most recent call last)",
      "Cell \u001b[1;32mIn[60], line 1\u001b[0m\n\u001b[1;32m----> 1\u001b[0m \u001b[38;5;28msorted\u001b[39m(l3, reverse \u001b[38;5;241m=\u001b[39m \u001b[38;5;28;01mTrue\u001b[39;00m)\n",
      "\u001b[1;31mNameError\u001b[0m: name 'l3' is not defined"
     ]
    }
   ],
   "source": [
    "sorted(l3, reverse = True)"
   ]
  },
  {
   "cell_type": "code",
   "execution_count": 61,
   "id": "bc81b3fe",
   "metadata": {},
   "outputs": [],
   "source": [
    "#methods"
   ]
  },
  {
   "cell_type": "code",
   "execution_count": 62,
   "id": "491f2880",
   "metadata": {},
   "outputs": [
    {
     "data": {
      "text/plain": [
       "[23, 34, 12, 45, [43, 67, 54], 12]"
      ]
     },
     "execution_count": 62,
     "metadata": {},
     "output_type": "execute_result"
    }
   ],
   "source": [
    "li"
   ]
  },
  {
   "cell_type": "code",
   "execution_count": 63,
   "id": "cccc98bd",
   "metadata": {},
   "outputs": [],
   "source": [
    "li.append(100)"
   ]
  },
  {
   "cell_type": "code",
   "execution_count": 64,
   "id": "03c5c466",
   "metadata": {},
   "outputs": [
    {
     "data": {
      "text/plain": [
       "[23, 34, 12, 45, [43, 67, 54], 12, 100]"
      ]
     },
     "execution_count": 64,
     "metadata": {},
     "output_type": "execute_result"
    }
   ],
   "source": [
    "li"
   ]
  },
  {
   "cell_type": "code",
   "execution_count": 65,
   "id": "21aa6c81",
   "metadata": {},
   "outputs": [],
   "source": [
    "x=[12, 23, 34]\n",
    "y=[12, 23, 34]"
   ]
  },
  {
   "cell_type": "code",
   "execution_count": 66,
   "id": "303b4cc5",
   "metadata": {},
   "outputs": [],
   "source": [
    "x.append([56, 67])\n",
    "y.extend([56, 67])"
   ]
  },
  {
   "cell_type": "code",
   "execution_count": 67,
   "id": "5ae885bb",
   "metadata": {},
   "outputs": [
    {
     "data": {
      "text/plain": [
       "[12, 23, 34, [56, 67]]"
      ]
     },
     "execution_count": 67,
     "metadata": {},
     "output_type": "execute_result"
    }
   ],
   "source": [
    "x"
   ]
  },
  {
   "cell_type": "code",
   "execution_count": 68,
   "id": "1687d56d",
   "metadata": {},
   "outputs": [
    {
     "data": {
      "text/plain": [
       "[12, 23, 34, 56, 67]"
      ]
     },
     "execution_count": 68,
     "metadata": {},
     "output_type": "execute_result"
    }
   ],
   "source": [
    "y"
   ]
  },
  {
   "cell_type": "code",
   "execution_count": 70,
   "id": "048b93fe",
   "metadata": {},
   "outputs": [
    {
     "data": {
      "text/plain": [
       "[23, 34, 101, 12, 45, [43, 67, 54], 12, 100]"
      ]
     },
     "execution_count": 70,
     "metadata": {},
     "output_type": "execute_result"
    }
   ],
   "source": [
    "#insert\n",
    "li.insert(2, 101)\n",
    "li"
   ]
  },
  {
   "cell_type": "code",
   "execution_count": 71,
   "id": "7b70540f",
   "metadata": {},
   "outputs": [
    {
     "data": {
      "text/plain": [
       "[23, 34, 12, 45, [43, 67, 54], 12, 100]"
      ]
     },
     "execution_count": 71,
     "metadata": {},
     "output_type": "execute_result"
    }
   ],
   "source": [
    "#remove\n",
    "li.remove(101)\n",
    "li"
   ]
  },
  {
   "cell_type": "code",
   "execution_count": 72,
   "id": "dcde951d",
   "metadata": {},
   "outputs": [
    {
     "data": {
      "text/plain": [
       "100"
      ]
     },
     "execution_count": 72,
     "metadata": {},
     "output_type": "execute_result"
    }
   ],
   "source": [
    "li.pop()"
   ]
  },
  {
   "cell_type": "code",
   "execution_count": 73,
   "id": "d472ba9e",
   "metadata": {},
   "outputs": [],
   "source": [
    "#clear"
   ]
  },
  {
   "cell_type": "code",
   "execution_count": 74,
   "id": "8e2e9aa2",
   "metadata": {},
   "outputs": [],
   "source": [
    "#Dictionary\n",
    "d1 = {1:45, 2:67, 3:45, 4:68}"
   ]
  },
  {
   "cell_type": "code",
   "execution_count": 75,
   "id": "19eeb5d1",
   "metadata": {},
   "outputs": [
    {
     "data": {
      "text/plain": [
       "{1: 45, 2: 67, 3: 45, 4: 68}"
      ]
     },
     "execution_count": 75,
     "metadata": {},
     "output_type": "execute_result"
    }
   ],
   "source": [
    "d1"
   ]
  },
  {
   "cell_type": "code",
   "execution_count": 76,
   "id": "6f374066",
   "metadata": {},
   "outputs": [
    {
     "data": {
      "text/plain": [
       "dict"
      ]
     },
     "execution_count": 76,
     "metadata": {},
     "output_type": "execute_result"
    }
   ],
   "source": [
    "type(d1)"
   ]
  },
  {
   "cell_type": "code",
   "execution_count": 77,
   "id": "c582f730",
   "metadata": {},
   "outputs": [],
   "source": [
    "d1[5] = 45"
   ]
  },
  {
   "cell_type": "code",
   "execution_count": 78,
   "id": "d4da3579",
   "metadata": {},
   "outputs": [
    {
     "data": {
      "text/plain": [
       "{1: 45, 2: 67, 3: 45, 4: 68, 5: 45}"
      ]
     },
     "execution_count": 78,
     "metadata": {},
     "output_type": "execute_result"
    }
   ],
   "source": [
    "d1"
   ]
  },
  {
   "cell_type": "code",
   "execution_count": 79,
   "id": "7587b179",
   "metadata": {},
   "outputs": [
    {
     "data": {
      "text/plain": [
       "45"
      ]
     },
     "execution_count": 79,
     "metadata": {},
     "output_type": "execute_result"
    }
   ],
   "source": [
    "d1[3]"
   ]
  },
  {
   "cell_type": "code",
   "execution_count": 80,
   "id": "4f756011",
   "metadata": {},
   "outputs": [],
   "source": [
    "d1[8] = 100"
   ]
  },
  {
   "cell_type": "code",
   "execution_count": 81,
   "id": "bcb39edc",
   "metadata": {},
   "outputs": [
    {
     "data": {
      "text/plain": [
       "{1: 45, 2: 67, 3: 45, 4: 68, 5: 45, 8: 100}"
      ]
     },
     "execution_count": 81,
     "metadata": {},
     "output_type": "execute_result"
    }
   ],
   "source": [
    "d1"
   ]
  },
  {
   "cell_type": "code",
   "execution_count": 83,
   "id": "86831bb1",
   "metadata": {},
   "outputs": [],
   "source": [
    "d1[10] = [12, 34, 16]"
   ]
  },
  {
   "cell_type": "code",
   "execution_count": 84,
   "id": "13fcf872",
   "metadata": {},
   "outputs": [
    {
     "data": {
      "text/plain": [
       "{1: 45, 2: 67, 3: 45, 4: 68, 5: 45, 8: 100, 10: [12, 34, 16]}"
      ]
     },
     "execution_count": 84,
     "metadata": {},
     "output_type": "execute_result"
    }
   ],
   "source": [
    "d1"
   ]
  },
  {
   "cell_type": "code",
   "execution_count": 85,
   "id": "92243527",
   "metadata": {},
   "outputs": [
    {
     "data": {
      "text/plain": [
       "{1: 45, 2: 67, 3: 45, 4: 68, 5: 45, 8: 100, 10: [12, 34, 16], 'a': 'Apple'}"
      ]
     },
     "execution_count": 85,
     "metadata": {},
     "output_type": "execute_result"
    }
   ],
   "source": [
    "d1['a'] = 'Apple'\n",
    "d1"
   ]
  },
  {
   "cell_type": "code",
   "execution_count": 87,
   "id": "f1d70017",
   "metadata": {},
   "outputs": [
    {
     "data": {
      "text/plain": [
       "[1, 2, 3, 4, 5, 8, 10, 'a']"
      ]
     },
     "execution_count": 87,
     "metadata": {},
     "output_type": "execute_result"
    }
   ],
   "source": [
    "list(d1.keys())"
   ]
  },
  {
   "cell_type": "code",
   "execution_count": 88,
   "id": "1c5e5cf1",
   "metadata": {},
   "outputs": [
    {
     "data": {
      "text/plain": [
       "[45, 67, 45, 68, 45, 100, [12, 34, 16], 'Apple']"
      ]
     },
     "execution_count": 88,
     "metadata": {},
     "output_type": "execute_result"
    }
   ],
   "source": [
    "list(d1.values())"
   ]
  },
  {
   "cell_type": "code",
   "execution_count": 89,
   "id": "4ae04982",
   "metadata": {},
   "outputs": [
    {
     "data": {
      "text/plain": [
       "[(1, 45),\n",
       " (2, 67),\n",
       " (3, 45),\n",
       " (4, 68),\n",
       " (5, 45),\n",
       " (8, 100),\n",
       " (10, [12, 34, 16]),\n",
       " ('a', 'Apple')]"
      ]
     },
     "execution_count": 89,
     "metadata": {},
     "output_type": "execute_result"
    }
   ],
   "source": [
    "list(d1.items())"
   ]
  },
  {
   "cell_type": "code",
   "execution_count": 90,
   "id": "1806b429",
   "metadata": {},
   "outputs": [],
   "source": [
    "#Set #no indexes present\n",
    "s={45, 67, 54, 45, 78.99}"
   ]
  },
  {
   "cell_type": "code",
   "execution_count": 91,
   "id": "109ee4fe",
   "metadata": {},
   "outputs": [
    {
     "data": {
      "text/plain": [
       "{45, 54, 67, 78.99}"
      ]
     },
     "execution_count": 91,
     "metadata": {},
     "output_type": "execute_result"
    }
   ],
   "source": [
    "s"
   ]
  },
  {
   "cell_type": "code",
   "execution_count": 92,
   "id": "efdb37db",
   "metadata": {},
   "outputs": [
    {
     "data": {
      "text/plain": [
       "set"
      ]
     },
     "execution_count": 92,
     "metadata": {},
     "output_type": "execute_result"
    }
   ],
   "source": [
    "type(s)"
   ]
  },
  {
   "cell_type": "code",
   "execution_count": 93,
   "id": "e98d996a",
   "metadata": {},
   "outputs": [
    {
     "ename": "TypeError",
     "evalue": "'set' object is not subscriptable",
     "output_type": "error",
     "traceback": [
      "\u001b[1;31m---------------------------------------------------------------------------\u001b[0m",
      "\u001b[1;31mTypeError\u001b[0m                                 Traceback (most recent call last)",
      "Cell \u001b[1;32mIn[93], line 1\u001b[0m\n\u001b[1;32m----> 1\u001b[0m s[\u001b[38;5;241m1\u001b[39m]\n",
      "\u001b[1;31mTypeError\u001b[0m: 'set' object is not subscriptable"
     ]
    }
   ],
   "source": [
    "s[1]"
   ]
  },
  {
   "cell_type": "code",
   "execution_count": 94,
   "id": "68fab938",
   "metadata": {},
   "outputs": [],
   "source": [
    "s.add(10)"
   ]
  },
  {
   "cell_type": "code",
   "execution_count": 95,
   "id": "8e1b432f",
   "metadata": {},
   "outputs": [
    {
     "data": {
      "text/plain": [
       "{10, 45, 54, 67, 78.99}"
      ]
     },
     "execution_count": 95,
     "metadata": {},
     "output_type": "execute_result"
    }
   ],
   "source": [
    "s"
   ]
  },
  {
   "cell_type": "code",
   "execution_count": 96,
   "id": "e9af0cd3",
   "metadata": {},
   "outputs": [],
   "source": [
    "s.add(65)"
   ]
  },
  {
   "cell_type": "code",
   "execution_count": 97,
   "id": "30f2e859",
   "metadata": {},
   "outputs": [
    {
     "data": {
      "text/plain": [
       "{10, 45, 54, 65, 67, 78.99}"
      ]
     },
     "execution_count": 97,
     "metadata": {},
     "output_type": "execute_result"
    }
   ],
   "source": [
    "s"
   ]
  },
  {
   "cell_type": "code",
   "execution_count": 98,
   "id": "2a7b0197",
   "metadata": {},
   "outputs": [
    {
     "data": {
      "text/plain": [
       "frozenset({10, 45, 54, 65, 67, 78.99})"
      ]
     },
     "execution_count": 98,
     "metadata": {},
     "output_type": "execute_result"
    }
   ],
   "source": [
    "frozenset(s)"
   ]
  },
  {
   "cell_type": "code",
   "execution_count": null,
   "id": "00dc3b51",
   "metadata": {},
   "outputs": [],
   "source": []
  }
 ],
 "metadata": {
  "kernelspec": {
   "display_name": "Python 3 (ipykernel)",
   "language": "python",
   "name": "python3"
  },
  "language_info": {
   "codemirror_mode": {
    "name": "ipython",
    "version": 3
   },
   "file_extension": ".py",
   "mimetype": "text/x-python",
   "name": "python",
   "nbconvert_exporter": "python",
   "pygments_lexer": "ipython3",
   "version": "3.11.5"
  }
 },
 "nbformat": 4,
 "nbformat_minor": 5
}

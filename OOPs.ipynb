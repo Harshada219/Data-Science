{
 "cells": [
  {
   "cell_type": "markdown",
   "id": "dadecd5f",
   "metadata": {},
   "source": [
    "## OOPs\n",
    "class Employee():\n",
    "    pass"
   ]
  },
  {
   "cell_type": "code",
   "execution_count": 3,
   "id": "b0705d81",
   "metadata": {},
   "outputs": [],
   "source": [
    "class Employee():\n",
    "pass\n",
    "emp1 = Employee()\n",
    "emp2 = Employee()"
   ]
  },
  {
   "cell_type": "code",
   "execution_count": 4,
   "id": "5df016c6",
   "metadata": {},
   "outputs": [
    {
     "name": "stdout",
     "output_type": "stream",
     "text": [
      "<__main__.Employee object at 0x00000220EF161550>\n"
     ]
    }
   ],
   "source": [
    "print(emp1)"
   ]
  },
  {
   "cell_type": "code",
   "execution_count": 5,
   "id": "ee3fabf7",
   "metadata": {},
   "outputs": [
    {
     "name": "stdout",
     "output_type": "stream",
     "text": [
      "<__main__.Employee object at 0x00000220EEBC5090>\n"
     ]
    }
   ],
   "source": [
    "print(emp2)"
   ]
  },
  {
   "cell_type": "code",
   "execution_count": 6,
   "id": "c62644fe",
   "metadata": {},
   "outputs": [],
   "source": [
    "emp1.first = 'Harshada' #instance variable\n",
    "emp1.last = 'Shinde'\n",
    "emp1.salary = 20000"
   ]
  },
  {
   "cell_type": "code",
   "execution_count": 7,
   "id": "165aa928",
   "metadata": {},
   "outputs": [],
   "source": [
    "emp2.first = 'Ankita'\n",
    "emp2.last ='Dange'\n",
    "emp2.salary = 10000"
   ]
  },
  {
   "cell_type": "markdown",
   "id": "ab11af6c",
   "metadata": {},
   "source": [
    "print(emp1.first)"
   ]
  },
  {
   "cell_type": "code",
   "execution_count": 9,
   "id": "ce4c371e",
   "metadata": {},
   "outputs": [
    {
     "name": "stdout",
     "output_type": "stream",
     "text": [
      "Harshada\n"
     ]
    }
   ],
   "source": [
    "print(emp1.first)"
   ]
  },
  {
   "cell_type": "code",
   "execution_count": 10,
   "id": "4ca07022",
   "metadata": {},
   "outputs": [
    {
     "name": "stdout",
     "output_type": "stream",
     "text": [
      "Ankita\n"
     ]
    }
   ],
   "source": [
    "print(emp2.first)"
   ]
  },
  {
   "cell_type": "code",
   "execution_count": 30,
   "id": "55ab688d",
   "metadata": {},
   "outputs": [],
   "source": [
    "#Encapsulation\n",
    "#Making public variables private using __\n",
    "class Employee():\n",
    "    \n",
    "    def __init__(self, first, last, salary):\n",
    "        self.first= first\n",
    "        self.last=last\n",
    "        self.__salary=salary #private variable\n",
    "        \n",
    "    def msg(self):\n",
    "        print('First Name:',self.first, '\\nLast Name:', self.last, '\\nSalary:', self.salary)"
   ]
  },
  {
   "cell_type": "code",
   "execution_count": 21,
   "id": "b6de0bbc",
   "metadata": {},
   "outputs": [],
   "source": [
    "emp1 = Employee('Harshada','Shinde',20000)\n",
    "emp2 = Employee('Ankita','Dange',10000)"
   ]
  },
  {
   "cell_type": "code",
   "execution_count": 22,
   "id": "f111b302",
   "metadata": {},
   "outputs": [
    {
     "name": "stdout",
     "output_type": "stream",
     "text": [
      "20000\n"
     ]
    }
   ],
   "source": [
    "print(emp1.salary)"
   ]
  },
  {
   "cell_type": "code",
   "execution_count": 26,
   "id": "14d85fc6",
   "metadata": {},
   "outputs": [
    {
     "name": "stdout",
     "output_type": "stream",
     "text": [
      "First Name: Harshada Last Name: Shinde Salary: 20000\n"
     ]
    }
   ],
   "source": [
    "emp1.msg()"
   ]
  },
  {
   "cell_type": "code",
   "execution_count": 27,
   "id": "562533fb",
   "metadata": {},
   "outputs": [
    {
     "name": "stdout",
     "output_type": "stream",
     "text": [
      "20000\n"
     ]
    }
   ],
   "source": [
    "emp1 = Employee('Harshada','Shinde',20000)\n",
    "emp2 = Employee('Ankita','Dange',10000)"
   ]
  },
  {
   "cell_type": "code",
   "execution_count": 29,
   "id": "bea557e4",
   "metadata": {},
   "outputs": [
    {
     "name": "stdout",
     "output_type": "stream",
     "text": [
      "20000\n"
     ]
    }
   ],
   "source": [
    "print(emp1.salary)"
   ]
  },
  {
   "cell_type": "markdown",
   "id": "778c7b49",
   "metadata": {},
   "source": [
    "## Inheritance"
   ]
  },
  {
   "cell_type": "code",
   "execution_count": 33,
   "id": "9732ae8d",
   "metadata": {},
   "outputs": [],
   "source": [
    "class Employee2(Employee): # subclass of employee -uses all methods from employee one\n",
    "    pass"
   ]
  },
  {
   "cell_type": "code",
   "execution_count": 34,
   "id": "b697a060",
   "metadata": {},
   "outputs": [],
   "source": [
    "emp3 = Employee2('Riya','Sharma',45000)"
   ]
  },
  {
   "cell_type": "code",
   "execution_count": 36,
   "id": "6ac63bc4",
   "metadata": {
    "scrolled": true
   },
   "outputs": [
    {
     "data": {
      "text/plain": [
       "'Riya'"
      ]
     },
     "execution_count": 36,
     "metadata": {},
     "output_type": "execute_result"
    }
   ],
   "source": [
    "emp3.first"
   ]
  },
  {
   "cell_type": "code",
   "execution_count": null,
   "id": "d44984a0",
   "metadata": {},
   "outputs": [],
   "source": []
  }
 ],
 "metadata": {
  "kernelspec": {
   "display_name": "Python 3 (ipykernel)",
   "language": "python",
   "name": "python3"
  },
  "language_info": {
   "codemirror_mode": {
    "name": "ipython",
    "version": 3
   },
   "file_extension": ".py",
   "mimetype": "text/x-python",
   "name": "python",
   "nbconvert_exporter": "python",
   "pygments_lexer": "ipython3",
   "version": "3.11.5"
  }
 },
 "nbformat": 4,
 "nbformat_minor": 5
}
